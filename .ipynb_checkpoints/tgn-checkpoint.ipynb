{
 "cells": [
  {
   "cell_type": "code",
   "execution_count": 1,
   "id": "2b0a9033-9733-41c8-8102-0ab970ad8953",
   "metadata": {},
   "outputs": [
    {
     "name": "stdout",
     "output_type": "stream",
     "text": [
      "README.md  tgn.ipynb\n"
     ]
    }
   ],
   "source": [
    "!ls"
   ]
  },
  {
   "cell_type": "code",
   "execution_count": 2,
   "id": "99bb1b4f-2721-4c56-bf8b-4c47e8bcfc93",
   "metadata": {},
   "outputs": [
    {
     "name": "stdout",
     "output_type": "stream",
     "text": [
      "/home/mdashrafulis_umass_edu\n"
     ]
    }
   ],
   "source": [
    "cd"
   ]
  },
  {
   "cell_type": "code",
   "execution_count": 3,
   "id": "524119ca-7cae-4c04-9309-021f2964ec38",
   "metadata": {},
   "outputs": [
    {
     "name": "stdout",
     "output_type": "stream",
     "text": [
      "/home/mdashrafulis_umass_edu/tgnn/TGN/tgn\n"
     ]
    }
   ],
   "source": [
    "cd tgnn/TGN/tgn/"
   ]
  },
  {
   "cell_type": "code",
   "execution_count": 4,
   "id": "2a1b4d6d-1c75-4c15-8bd3-c12b34e63735",
   "metadata": {},
   "outputs": [],
   "source": [
    "# !pip install pandas"
   ]
  },
  {
   "cell_type": "code",
   "execution_count": 5,
   "id": "7d9c9695-9f13-4421-a181-6fd1fc3bd1d9",
   "metadata": {},
   "outputs": [],
   "source": [
    "# conda install pytorch torchvision torchaudio pytorch-cuda=11.8 -c pytorch -c nvidia"
   ]
  },
  {
   "cell_type": "code",
   "execution_count": 6,
   "id": "f9498276-c865-4fa2-bf05-aaf41af3241c",
   "metadata": {},
   "outputs": [],
   "source": [
    " # conda install -c anaconda pytz "
   ]
  },
  {
   "cell_type": "code",
   "execution_count": 7,
   "id": "3dbf838a-641c-45f9-b262-dee818645f13",
   "metadata": {},
   "outputs": [],
   "source": [
    "# !python utils/preprocess_data.py --data wikipedia --bipartite"
   ]
  },
  {
   "cell_type": "code",
   "execution_count": 8,
   "id": "6dccd489-5ed7-4540-94b0-023a635bbd0c",
   "metadata": {},
   "outputs": [],
   "source": [
    "# !python utils/preprocess_data.py --data reddit --bipartite"
   ]
  },
  {
   "cell_type": "code",
   "execution_count": 9,
   "id": "bb8fb70d-0f10-499f-be46-f5340befbc74",
   "metadata": {},
   "outputs": [],
   "source": [
    "# !python utils/preprocess_data.py --data mooc --bipartite"
   ]
  },
  {
   "cell_type": "code",
   "execution_count": 10,
   "id": "7a6ae598-79f0-4613-8d9e-afdc060eabec",
   "metadata": {},
   "outputs": [],
   "source": [
    "# !python utils/preprocess_data.py --data lastfm --bipartite"
   ]
  },
  {
   "cell_type": "code",
   "execution_count": 11,
   "id": "46458213-6ca9-4a05-bb32-be716041fe22",
   "metadata": {},
   "outputs": [],
   "source": [
    "# !python train_self_supervised.py --use_memory --prefix tgn-attn --n_runs 10"
   ]
  },
  {
   "cell_type": "code",
   "execution_count": 12,
   "id": "9ef8d7a9-5fa7-465c-9ab8-8e4937c55030",
   "metadata": {},
   "outputs": [],
   "source": [
    "# !python train_self_supervised.py -d reddit --use_memory --prefix tgn-attn-reddit --n_runs 10"
   ]
  },
  {
   "cell_type": "code",
   "execution_count": 4,
   "id": "27264666-1559-45a4-90c3-d95283205f27",
   "metadata": {},
   "outputs": [],
   "source": [
    "# node classification\n",
    "# !python train_supervised.py --use_memory --prefix tgn-attn --n_runs 10"
   ]
  },
  {
   "cell_type": "code",
   "execution_count": 5,
   "id": "2b062a33-0859-42d0-a76d-ea0a154f6aff",
   "metadata": {},
   "outputs": [],
   "source": [
    "# !python utils/preprocess_data.py --data small --bipartite"
   ]
  },
  {
   "cell_type": "code",
   "execution_count": 6,
   "id": "cbdcfea2-fe15-4d45-bd9d-e41ff7fcc633",
   "metadata": {},
   "outputs": [],
   "source": [
    "# !python train_supervised.py -d small --use_memory --prefix tgn-attn --n_runs 10"
   ]
  },
  {
   "cell_type": "code",
   "execution_count": 10,
   "id": "8c3870f2-22c8-4679-be58-a925b70a0b49",
   "metadata": {},
   "outputs": [],
   "source": [
    "# !python utils/preprocess_data.py --data mooc --bipartite"
   ]
  },
  {
   "cell_type": "code",
   "execution_count": 8,
   "id": "811103e8-8684-4ab4-ad89-3e725ff6b3ed",
   "metadata": {},
   "outputs": [],
   "source": [
    "# !python train_supervised.py -d mooc --use_memory --prefix tgn-attn --n_runs 10"
   ]
  },
  {
   "cell_type": "code",
   "execution_count": 11,
   "id": "3d8f7fb2-573d-4202-a30d-bc1d0570e091",
   "metadata": {},
   "outputs": [
    {
     "name": "stdout",
     "output_type": "stream",
     "text": [
      "CONTRIBUTING.md  data\t     model\t\tsaved_models\n",
      "LICENSE\t\t evaluation  modules\t\ttrain_self_supervised.py\n",
      "README.md\t figures     results\t\ttrain_supervised.py\n",
      "__init__.py\t log\t     saved_checkpoints\tutils\n"
     ]
    }
   ],
   "source": [
    "!ls"
   ]
  },
  {
   "cell_type": "code",
   "execution_count": 12,
   "id": "d7c3b824-a1bc-42b9-a2c2-8d7e3da73043",
   "metadata": {},
   "outputs": [
    {
     "name": "stdout",
     "output_type": "stream",
     "text": [
      "/home/mdashrafulis_umass_edu/tgnn/TGN/tgn/data\n"
     ]
    }
   ],
   "source": [
    "cd data"
   ]
  },
  {
   "cell_type": "code",
   "execution_count": 13,
   "id": "db8c6103-3657-487e-b334-3d196953bffc",
   "metadata": {},
   "outputs": [
    {
     "name": "stdout",
     "output_type": "stream",
     "text": [
      "lastfm.csv\t    ml_reddit.csv\tml_wikipedia.npy\n",
      "ml_lastfm.csv\t    ml_reddit.npy\tml_wikipedia_node.npy\n",
      "ml_lastfm.npy\t    ml_reddit_node.npy\tmooc.csv\n",
      "ml_lastfm_node.npy  ml_small.csv\treddit.csv\n",
      "ml_mooc.csv\t    ml_small.npy\tsmall.csv\n",
      "ml_mooc.npy\t    ml_small_node.npy\twikipedia.csv\n",
      "ml_mooc_node.npy    ml_wikipedia.csv\n"
     ]
    }
   ],
   "source": [
    "!ls"
   ]
  },
  {
   "cell_type": "code",
   "execution_count": null,
   "id": "4f916332-855e-44d6-b93d-2b0b4aba6b36",
   "metadata": {},
   "outputs": [],
   "source": [
    "def chronologicalSample(fname, event_cnt = 20):\n",
    "    file1 = open('myfile.txt', 'r')\n",
    "    count = 0\n",
    "    while True:\n",
    "        line = file1.readline()\n",
    "        if not line or count>event_cnt:\n",
    "            break\n",
    "        print(line)"
   ]
  }
 ],
 "metadata": {
  "kernelspec": {
   "display_name": "Python [conda env:.conda-tgnnv2]",
   "language": "python",
   "name": "conda-env-.conda-tgnnv2-py"
  },
  "language_info": {
   "codemirror_mode": {
    "name": "ipython",
    "version": 3
   },
   "file_extension": ".py",
   "mimetype": "text/x-python",
   "name": "python",
   "nbconvert_exporter": "python",
   "pygments_lexer": "ipython3",
   "version": "3.11.5"
  }
 },
 "nbformat": 4,
 "nbformat_minor": 5
}
