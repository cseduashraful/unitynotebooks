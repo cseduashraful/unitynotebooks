{
 "cells": [
  {
   "cell_type": "code",
   "execution_count": 1,
   "id": "2b0a9033-9733-41c8-8102-0ab970ad8953",
   "metadata": {},
   "outputs": [
    {
     "name": "stdout",
     "output_type": "stream",
     "text": [
      "TGN  Untitled.ipynb  myenv  test.ipynb\ttgn.ipynb\n"
     ]
    }
   ],
   "source": [
    "!ls"
   ]
  },
  {
   "cell_type": "code",
   "execution_count": 2,
   "id": "99bb1b4f-2721-4c56-bf8b-4c47e8bcfc93",
   "metadata": {},
   "outputs": [
    {
     "name": "stdout",
     "output_type": "stream",
     "text": [
      "/home/mdashrafulis_umass_edu/tgnn/TGN/tgn\n"
     ]
    }
   ],
   "source": [
    "cd TGN/tgn"
   ]
  },
  {
   "cell_type": "code",
   "execution_count": 3,
   "id": "524119ca-7cae-4c04-9309-021f2964ec38",
   "metadata": {},
   "outputs": [
    {
     "name": "stdout",
     "output_type": "stream",
     "text": [
      "CONTRIBUTING.md  \u001b[0m\u001b[01;34mdata\u001b[0m/        \u001b[01;34mmodel\u001b[0m/              \u001b[01;34msaved_models\u001b[0m/\n",
      "LICENSE          \u001b[01;34mevaluation\u001b[0m/  \u001b[01;34mmodules\u001b[0m/            train_self_supervised.py\n",
      "README.md        \u001b[01;34mfigures\u001b[0m/     \u001b[01;34mresults\u001b[0m/            train_supervised.py\n",
      "__init__.py      \u001b[01;34mlog\u001b[0m/         \u001b[01;34msaved_checkpoints\u001b[0m/  \u001b[01;34mutils\u001b[0m/\n"
     ]
    }
   ],
   "source": [
    "ls"
   ]
  },
  {
   "cell_type": "code",
   "execution_count": 4,
   "id": "f55848c3-7f3c-4404-8dff-5dc1c6fcf49d",
   "metadata": {},
   "outputs": [],
   "source": [
    "# cd tgn"
   ]
  },
  {
   "cell_type": "code",
   "execution_count": 5,
   "id": "28d59fa7-9723-4020-bbb6-e40757a65499",
   "metadata": {},
   "outputs": [
    {
     "name": "stdout",
     "output_type": "stream",
     "text": [
      "CONTRIBUTING.md  \u001b[0m\u001b[01;34mdata\u001b[0m/        \u001b[01;34mmodel\u001b[0m/              \u001b[01;34msaved_models\u001b[0m/\n",
      "LICENSE          \u001b[01;34mevaluation\u001b[0m/  \u001b[01;34mmodules\u001b[0m/            train_self_supervised.py\n",
      "README.md        \u001b[01;34mfigures\u001b[0m/     \u001b[01;34mresults\u001b[0m/            train_supervised.py\n",
      "__init__.py      \u001b[01;34mlog\u001b[0m/         \u001b[01;34msaved_checkpoints\u001b[0m/  \u001b[01;34mutils\u001b[0m/\n"
     ]
    }
   ],
   "source": [
    "ls"
   ]
  },
  {
   "cell_type": "code",
   "execution_count": 6,
   "id": "3dbf838a-641c-45f9-b262-dee818645f13",
   "metadata": {},
   "outputs": [],
   "source": [
    "# !python utils/preprocess_data.py --data wikipedia --bipartite"
   ]
  },
  {
   "cell_type": "code",
   "execution_count": 7,
   "id": "2a1b4d6d-1c75-4c15-8bd3-c12b34e63735",
   "metadata": {},
   "outputs": [],
   "source": [
    "# !pip install pandas"
   ]
  },
  {
   "cell_type": "code",
   "execution_count": 8,
   "id": "6dccd489-5ed7-4540-94b0-023a635bbd0c",
   "metadata": {},
   "outputs": [],
   "source": [
    "# !python utils/preprocess_data.py --data reddit --bipartite"
   ]
  },
  {
   "cell_type": "code",
   "execution_count": 9,
   "id": "bb8fb70d-0f10-499f-be46-f5340befbc74",
   "metadata": {},
   "outputs": [],
   "source": [
    "# !python utils/preprocess_data.py --data mooc --bipartite"
   ]
  },
  {
   "cell_type": "code",
   "execution_count": 10,
   "id": "7a6ae598-79f0-4613-8d9e-afdc060eabec",
   "metadata": {},
   "outputs": [],
   "source": [
    "# !python utils/preprocess_data.py --data lastfm --bipartite"
   ]
  },
  {
   "cell_type": "code",
   "execution_count": null,
   "id": "ff996d05-ccc2-4a2b-9586-16eeee505439",
   "metadata": {},
   "outputs": [],
   "source": []
  },
  {
   "cell_type": "code",
   "execution_count": 11,
   "id": "7d9c9695-9f13-4421-a181-6fd1fc3bd1d9",
   "metadata": {},
   "outputs": [],
   "source": [
    "# conda install pytorch torchvision torchaudio pytorch-cuda=11.8 -c pytorch -c nvidia"
   ]
  },
  {
   "cell_type": "code",
   "execution_count": 12,
   "id": "f9498276-c865-4fa2-bf05-aaf41af3241c",
   "metadata": {},
   "outputs": [],
   "source": [
    " # conda install -c anaconda pytz "
   ]
  },
  {
   "cell_type": "code",
   "execution_count": 13,
   "id": "46458213-6ca9-4a05-bb32-be716041fe22",
   "metadata": {},
   "outputs": [],
   "source": [
    "# !python train_self_supervised.py --use_memory --prefix tgn-attn --n_runs 10"
   ]
  },
  {
   "cell_type": "code",
   "execution_count": null,
   "id": "9ef8d7a9-5fa7-465c-9ab8-8e4937c55030",
   "metadata": {},
   "outputs": [
    {
     "name": "stdout",
     "output_type": "stream",
     "text": [
      "INFO:root:Namespace(data='reddit', bs=200, prefix='tgn-attn-reddit', n_degree=10, n_head=2, n_epoch=50, n_layer=1, lr=0.0001, patience=5, n_runs=10, drop_out=0.1, gpu=0, node_dim=100, time_dim=100, backprop_every=1, use_memory=True, embedding_module='graph_attention', message_function='identity', memory_updater='gru', aggregator='last', memory_update_at_end=False, message_dim=100, memory_dim=172, different_new_nodes=False, uniform=False, randomize_features=False, use_destination_embedding_in_message=False, use_source_embedding_in_message=False, dyrep=False)\n",
      "The dataset has 672447 interactions, involving 10984 different nodes\n",
      "The training dataset has 389989 interactions, involving 9574 different nodes\n",
      "The validation dataset has 100867 interactions, involving 9839 different nodes\n",
      "The test dataset has 100867 interactions, involving 9615 different nodes\n",
      "The new node validation dataset has 19446 interactions, involving 3491 different nodes\n",
      "The new node test dataset has 21470 interactions, involving 3515 different nodes\n",
      "1098 nodes were used for the inductive testing, i.e. are never seen during training\n",
      "INFO:root:num of training instances: 389989\n",
      "INFO:root:num of batches per epoch: 1950\n",
      "INFO:root:start 0 epoch\n",
      "INFO:root:epoch: 0 took 436.15s\n",
      "INFO:root:Epoch mean loss: 0.477303511148844\n",
      "INFO:root:val auc: 0.977926777816621, new node val auc: 0.9229195162705912\n",
      "INFO:root:val ap: 0.9784717909448908, new node val ap: 0.9266911369902745\n",
      "INFO:root:start 1 epoch\n",
      "INFO:root:epoch: 1 took 416.80s\n",
      "INFO:root:Epoch mean loss: 0.3764111008475988\n",
      "INFO:root:val auc: 0.9788884557024983, new node val auc: 0.9441746853420006\n",
      "INFO:root:val ap: 0.979248950927069, new node val ap: 0.948194614271454\n",
      "INFO:root:start 2 epoch\n",
      "INFO:root:epoch: 2 took 409.58s\n",
      "INFO:root:Epoch mean loss: 0.3508307405618521\n",
      "INFO:root:val auc: 0.9820297304246464, new node val auc: 0.9397367214324291\n",
      "INFO:root:val ap: 0.9827690926612082, new node val ap: 0.9465655394067891\n",
      "INFO:root:start 3 epoch\n",
      "INFO:root:epoch: 3 took 416.83s\n",
      "INFO:root:Epoch mean loss: 0.3392040517544135\n",
      "INFO:root:val auc: 0.983015955641844, new node val auc: 0.9464101999826396\n",
      "INFO:root:val ap: 0.9835430319202507, new node val ap: 0.9512951456876294\n",
      "INFO:root:start 4 epoch\n",
      "INFO:root:epoch: 4 took 409.82s\n",
      "INFO:root:Epoch mean loss: 0.32894978896929666\n",
      "INFO:root:val auc: 0.9832663861992682, new node val auc: 0.9494972635604336\n",
      "INFO:root:val ap: 0.9839176344246962, new node val ap: 0.9543027176723404\n",
      "INFO:root:start 5 epoch\n",
      "INFO:root:epoch: 5 took 409.92s\n",
      "INFO:root:Epoch mean loss: 0.3219993758507264\n",
      "INFO:root:val auc: 0.984327707785147, new node val auc: 0.9488106272423902\n",
      "INFO:root:val ap: 0.9847568642922527, new node val ap: 0.95372704465441\n",
      "INFO:root:start 6 epoch\n"
     ]
    }
   ],
   "source": [
    "# !python train_self_supervised.py -d reddit --use_memory --prefix tgn-attn-reddit --n_runs 10"
   ]
  },
  {
   "cell_type": "code",
   "execution_count": null,
   "id": "27264666-1559-45a4-90c3-d95283205f27",
   "metadata": {},
   "outputs": [
    {
     "name": "stdout",
     "output_type": "stream",
     "text": [
      "INFO:root:Namespace(data='wikipedia', bs=100, prefix='tgn-attn', n_degree=10, n_head=2, n_epoch=10, n_layer=1, lr=0.0003, patience=5, n_runs=10, drop_out=0.1, gpu=0, node_dim=100, time_dim=100, backprop_every=1, use_memory=True, embedding_module='graph_attention', message_function='identity', aggregator='last', memory_update_at_end=False, message_dim=100, memory_dim=172, different_new_nodes=False, uniform=False, randomize_features=False, use_destination_embedding_in_message=False, use_source_embedding_in_message=False, n_neg=1, use_validation=False, new_node=False)\n",
      "DEBUG:root:Num of training instances: 133853\n",
      "DEBUG:root:Num of batches per epoch: 1339\n",
      "INFO:root:Loading saved TGN model\n",
      "INFO:root:TGN models loaded\n",
      "INFO:root:Start training node classification task\n",
      "INFO:root:Epoch 0: train loss: 0.03929457797083451, val auc: 0.8765307676587738, time: 136.12867045402527\n"
     ]
    }
   ],
   "source": [
    "# node classification\n",
    "!python train_supervised.py --use_memory --prefix tgn-attn --n_runs 10"
   ]
  },
  {
   "cell_type": "code",
   "execution_count": null,
   "id": "2b062a33-0859-42d0-a76d-ea0a154f6aff",
   "metadata": {},
   "outputs": [],
   "source": []
  }
 ],
 "metadata": {
  "kernelspec": {
   "display_name": "Python [conda env:.conda-tgnnv2]",
   "language": "python",
   "name": "conda-env-.conda-tgnnv2-py"
  },
  "language_info": {
   "codemirror_mode": {
    "name": "ipython",
    "version": 3
   },
   "file_extension": ".py",
   "mimetype": "text/x-python",
   "name": "python",
   "nbconvert_exporter": "python",
   "pygments_lexer": "ipython3",
   "version": "3.11.5"
  }
 },
 "nbformat": 4,
 "nbformat_minor": 5
}
