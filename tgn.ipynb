{
 "cells": [
  {
   "cell_type": "code",
   "execution_count": 33,
   "id": "2b0a9033-9733-41c8-8102-0ab970ad8953",
   "metadata": {},
   "outputs": [
    {
     "name": "stdout",
     "output_type": "stream",
     "text": [
      "gt  ondemand  ssh.tar.gz  ssh_bak  tgnn\n"
     ]
    }
   ],
   "source": [
    "!ls"
   ]
  },
  {
   "cell_type": "code",
   "execution_count": 18,
   "id": "99bb1b4f-2721-4c56-bf8b-4c47e8bcfc93",
   "metadata": {},
   "outputs": [
    {
     "name": "stdout",
     "output_type": "stream",
     "text": [
      "/home/mdashrafulis_umass_edu\n"
     ]
    }
   ],
   "source": [
    "cd"
   ]
  },
  {
   "cell_type": "code",
   "execution_count": 34,
   "id": "524119ca-7cae-4c04-9309-021f2964ec38",
   "metadata": {},
   "outputs": [
    {
     "name": "stdout",
     "output_type": "stream",
     "text": [
      "/home/mdashrafulis_umass_edu/tgnn/TGN/tgn\n"
     ]
    }
   ],
   "source": [
    "cd tgnn/TGN/tgn/"
   ]
  },
  {
   "cell_type": "code",
   "execution_count": 23,
   "id": "2a1b4d6d-1c75-4c15-8bd3-c12b34e63735",
   "metadata": {},
   "outputs": [],
   "source": [
    "# !pip install pandas"
   ]
  },
  {
   "cell_type": "code",
   "execution_count": 27,
   "id": "7d9c9695-9f13-4421-a181-6fd1fc3bd1d9",
   "metadata": {},
   "outputs": [],
   "source": [
    "# conda install pytorch torchvision torchaudio pytorch-cuda=11.8 -c pytorch -c nvidia"
   ]
  },
  {
   "cell_type": "code",
   "execution_count": 28,
   "id": "f9498276-c865-4fa2-bf05-aaf41af3241c",
   "metadata": {},
   "outputs": [],
   "source": [
    " # conda install -c anaconda pytz "
   ]
  },
  {
   "cell_type": "code",
   "execution_count": 22,
   "id": "3dbf838a-641c-45f9-b262-dee818645f13",
   "metadata": {},
   "outputs": [],
   "source": [
    "# !python utils/preprocess_data.py --data wikipedia --bipartite"
   ]
  },
  {
   "cell_type": "code",
   "execution_count": 24,
   "id": "6dccd489-5ed7-4540-94b0-023a635bbd0c",
   "metadata": {},
   "outputs": [],
   "source": [
    "# !python utils/preprocess_data.py --data reddit --bipartite"
   ]
  },
  {
   "cell_type": "code",
   "execution_count": 25,
   "id": "bb8fb70d-0f10-499f-be46-f5340befbc74",
   "metadata": {},
   "outputs": [],
   "source": [
    "# !python utils/preprocess_data.py --data mooc --bipartite"
   ]
  },
  {
   "cell_type": "code",
   "execution_count": 26,
   "id": "7a6ae598-79f0-4613-8d9e-afdc060eabec",
   "metadata": {},
   "outputs": [],
   "source": [
    "# !python utils/preprocess_data.py --data lastfm --bipartite"
   ]
  },
  {
   "cell_type": "code",
   "execution_count": 29,
   "id": "46458213-6ca9-4a05-bb32-be716041fe22",
   "metadata": {},
   "outputs": [],
   "source": [
    "# !python train_self_supervised.py --use_memory --prefix tgn-attn --n_runs 10"
   ]
  },
  {
   "cell_type": "code",
   "execution_count": 30,
   "id": "9ef8d7a9-5fa7-465c-9ab8-8e4937c55030",
   "metadata": {},
   "outputs": [],
   "source": [
    "# !python train_self_supervised.py -d reddit --use_memory --prefix tgn-attn-reddit --n_runs 10"
   ]
  },
  {
   "cell_type": "code",
   "execution_count": null,
   "id": "27264666-1559-45a4-90c3-d95283205f27",
   "metadata": {},
   "outputs": [
    {
     "name": "stdout",
     "output_type": "stream",
     "text": [
      "INFO:root:Namespace(data='wikipedia', bs=100, prefix='tgn-attn', n_degree=10, n_head=2, n_epoch=10, n_layer=1, lr=0.0003, patience=5, n_runs=10, drop_out=0.1, gpu=0, node_dim=100, time_dim=100, backprop_every=1, use_memory=True, embedding_module='graph_attention', message_function='identity', aggregator='last', memory_update_at_end=False, message_dim=100, memory_dim=172, different_new_nodes=False, uniform=False, randomize_features=False, use_destination_embedding_in_message=False, use_source_embedding_in_message=False, n_neg=1, use_validation=False, new_node=False)\n",
      "DEBUG:root:Num of training instances: 133853\n",
      "DEBUG:root:Num of batches per epoch: 1339\n",
      "INFO:root:Loading saved TGN model\n",
      "INFO:root:TGN models loaded\n",
      "INFO:root:Start training node classification task\n"
     ]
    }
   ],
   "source": [
    "# node classification\n",
    "!python train_supervised.py --use_memory --prefix tgn-attn --n_runs 10"
   ]
  },
  {
   "cell_type": "code",
   "execution_count": null,
   "id": "2b062a33-0859-42d0-a76d-ea0a154f6aff",
   "metadata": {},
   "outputs": [],
   "source": []
  }
 ],
 "metadata": {
  "kernelspec": {
   "display_name": "Python [conda env:.conda-tgnnv2]",
   "language": "python",
   "name": "conda-env-.conda-tgnnv2-py"
  },
  "language_info": {
   "codemirror_mode": {
    "name": "ipython",
    "version": 3
   },
   "file_extension": ".py",
   "mimetype": "text/x-python",
   "name": "python",
   "nbconvert_exporter": "python",
   "pygments_lexer": "ipython3",
   "version": "3.11.5"
  }
 },
 "nbformat": 4,
 "nbformat_minor": 5
}
